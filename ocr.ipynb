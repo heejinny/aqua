{
 "cells": [
  {
   "cell_type": "code",
   "execution_count": 10,
   "id": "7dd08077342e1333",
   "metadata": {
    "collapsed": false,
    "ExecuteTime": {
     "end_time": "2024-11-27T04:41:48.312183Z",
     "start_time": "2024-11-27T04:41:48.308322Z"
    }
   },
   "outputs": [],
   "source": [
    "import fitz  # PyMuPDF\n",
    "from PIL import Image\n",
    "import pytesseract\n",
    "\n",
    "# Tesseract OCR 경로 설정 (필요 시)\n",
    "# pytesseract.pytesseract.tesseract_cmd = r'C:\\Program Files\\Tesseract-OCR\\tesseract.exe'\n",
    "\n",
    "def pdf_to_images(pdf_path, output_folder, dpi=300):\n",
    "    \"\"\"\n",
    "    PDF 파일을 이미지로 변환 및 저장\n",
    "    \"\"\"\n",
    "    doc = fitz.open(pdf_path)\n",
    "    image_paths = []\n",
    "    file_nm = str(pdf_path).split(\"/\")[-1].split(\".\")[0]\n",
    "\n",
    "    for page_num in range(len(doc)):\n",
    "        # 각 페이지를 이미지로 변환\n",
    "        zoom = dpi / 72  # 기본 DPI는 72\n",
    "        matrix = fitz.Matrix(zoom, zoom)\n",
    "        pix = doc[page_num].get_pixmap(matrix=matrix)\n",
    "        image_path = f\"{output_folder}/{file_nm}_{page_num + 1}.png\"\n",
    "        pix.save(image_path)\n",
    "        image_paths.append(image_path)\n",
    "\n",
    "    return image_paths\n",
    "\n",
    "def crop_image(image_path, coordinates, cropped_path):\n",
    "    \"\"\"\n",
    "    이미지에서 특정 영역을 잘라내기\n",
    "    coordinates: (x1, y1, x2, y2)\n",
    "    \"\"\"\n",
    "    with Image.open(image_path) as img:\n",
    "        cropped_img = img.crop(coordinates)\n",
    "        cropped_img.save(cropped_path)\n",
    "        return cropped_path\n",
    "\n",
    "def perform_ocr(image_path):\n",
    "    \"\"\"\n",
    "    OCR 수행\n",
    "    \"\"\"\n",
    "    with Image.open(image_path) as img:\n",
    "        text = pytesseract.image_to_string(img, lang=\"kor\")  # 한국어는 \"kor\"로 변경\n",
    "    return text\n",
    "\n",
    "def get_image_size(image_path):\n",
    "    \"\"\"\n",
    "    이미지 크기를 측정하는 함수\n",
    "    :param image_path: 이미지 파일 경로\n",
    "    :return: (너비, 높이) 튜플\n",
    "    \"\"\"\n",
    "    with Image.open(image_path) as img:\n",
    "        width, height = img.size  # (너비, 높이)\n",
    "    return width, height"
   ]
  },
  {
   "cell_type": "code",
   "outputs": [],
   "source": [
    "# PDF 슬라이싱 및 OCR 수행\n",
    "pdf_path = \"quiz_pdf/2024_B.pdf\"\n",
    "output_folder = \"quiz_image\"\n",
    "\n",
    "doc_nm = str(pdf_path).split(\"/\")[-1].split(\".\")[0]\n",
    "\n",
    "# 1. PDF를 이미지로 변환\n",
    "images = pdf_to_images(pdf_path, output_folder)\n",
    "# 2. 특정 영역 잘라내기 (슬라이싱)\n",
    "# 좌표는 PDF의 특정 영역에 따라 지정 (예: x1, y1, x2, y2)\n",
    "coordinates_l = (0, 270, 1500, 4040)\n",
    "coordinates_r = (1500, 270, 3000, 4040)# 예시 좌표\n",
    "\n",
    "for idx, image in enumerate(images[1:]):\n",
    "    cropped_image_path_l = crop_image(image, coordinates_l,\n",
    "                                f\"quiz_image_cropped/{doc_nm}_{idx + 1}_l.png\")\n",
    "    \n",
    "    cropped_image_path_r = crop_image(image, coordinates_r,\n",
    "                                      f\"quiz_image_cropped/{doc_nm}_{idx + 1}_r.png\")"
   ],
   "metadata": {
    "collapsed": false,
    "ExecuteTime": {
     "end_time": "2024-11-27T05:16:45.492888Z",
     "start_time": "2024-11-27T05:16:12.272698Z"
    }
   },
   "id": "2fff8ae318f3444f",
   "execution_count": 17
  },
  {
   "cell_type": "code",
   "outputs": [
    {
     "ename": "TesseractError",
     "evalue": "(1, 'Error opening data file /opt/homebrew/share/tessdata/kor.traineddata Please make sure the TESSDATA_PREFIX environment variable is set to your \"tessdata\" directory. Failed loading language \\'kor\\' Tesseract couldn\\'t load any languages! Could not initialize tesseract.')",
     "output_type": "error",
     "traceback": [
      "\u001B[0;31m---------------------------------------------------------------------------\u001B[0m",
      "\u001B[0;31mTesseractError\u001B[0m                            Traceback (most recent call last)",
      "Cell \u001B[0;32mIn[9], line 2\u001B[0m\n\u001B[1;32m      1\u001B[0m \u001B[38;5;66;03m# 3. OCR 수행\u001B[39;00m\n\u001B[0;32m----> 2\u001B[0m extracted_text \u001B[38;5;241m=\u001B[39m \u001B[43mperform_ocr\u001B[49m\u001B[43m(\u001B[49m\u001B[43mcropped_image_path\u001B[49m\u001B[43m)\u001B[49m\n\u001B[1;32m      3\u001B[0m \u001B[38;5;28mprint\u001B[39m(\u001B[38;5;124m\"\u001B[39m\u001B[38;5;124m추출된 텍스트:\u001B[39m\u001B[38;5;124m\"\u001B[39m, extracted_text)\n",
      "Cell \u001B[0;32mIn[4], line 40\u001B[0m, in \u001B[0;36mperform_ocr\u001B[0;34m(image_path)\u001B[0m\n\u001B[1;32m     36\u001B[0m \u001B[38;5;250m\u001B[39m\u001B[38;5;124;03m\"\"\"\u001B[39;00m\n\u001B[1;32m     37\u001B[0m \u001B[38;5;124;03mOCR 수행\u001B[39;00m\n\u001B[1;32m     38\u001B[0m \u001B[38;5;124;03m\"\"\"\u001B[39;00m\n\u001B[1;32m     39\u001B[0m \u001B[38;5;28;01mwith\u001B[39;00m Image\u001B[38;5;241m.\u001B[39mopen(image_path) \u001B[38;5;28;01mas\u001B[39;00m img:\n\u001B[0;32m---> 40\u001B[0m     text \u001B[38;5;241m=\u001B[39m \u001B[43mpytesseract\u001B[49m\u001B[38;5;241;43m.\u001B[39;49m\u001B[43mimage_to_string\u001B[49m\u001B[43m(\u001B[49m\u001B[43mimg\u001B[49m\u001B[43m,\u001B[49m\u001B[43m \u001B[49m\u001B[43mlang\u001B[49m\u001B[38;5;241;43m=\u001B[39;49m\u001B[38;5;124;43m\"\u001B[39;49m\u001B[38;5;124;43mkor\u001B[39;49m\u001B[38;5;124;43m\"\u001B[39;49m\u001B[43m)\u001B[49m  \u001B[38;5;66;03m# 한국어는 \"kor\"로 변경\u001B[39;00m\n\u001B[1;32m     41\u001B[0m \u001B[38;5;28;01mreturn\u001B[39;00m text\n",
      "File \u001B[0;32m~/PycharmProjects/aqua/.venv/lib/python3.10/site-packages/pytesseract/pytesseract.py:486\u001B[0m, in \u001B[0;36mimage_to_string\u001B[0;34m(image, lang, config, nice, output_type, timeout)\u001B[0m\n\u001B[1;32m    481\u001B[0m \u001B[38;5;250m\u001B[39m\u001B[38;5;124;03m\"\"\"\u001B[39;00m\n\u001B[1;32m    482\u001B[0m \u001B[38;5;124;03mReturns the result of a Tesseract OCR run on the provided image to string\u001B[39;00m\n\u001B[1;32m    483\u001B[0m \u001B[38;5;124;03m\"\"\"\u001B[39;00m\n\u001B[1;32m    484\u001B[0m args \u001B[38;5;241m=\u001B[39m [image, \u001B[38;5;124m'\u001B[39m\u001B[38;5;124mtxt\u001B[39m\u001B[38;5;124m'\u001B[39m, lang, config, nice, timeout]\n\u001B[0;32m--> 486\u001B[0m \u001B[38;5;28;01mreturn\u001B[39;00m \u001B[43m{\u001B[49m\n\u001B[1;32m    487\u001B[0m \u001B[43m    \u001B[49m\u001B[43mOutput\u001B[49m\u001B[38;5;241;43m.\u001B[39;49m\u001B[43mBYTES\u001B[49m\u001B[43m:\u001B[49m\u001B[43m \u001B[49m\u001B[38;5;28;43;01mlambda\u001B[39;49;00m\u001B[43m:\u001B[49m\u001B[43m \u001B[49m\u001B[43mrun_and_get_output\u001B[49m\u001B[43m(\u001B[49m\u001B[38;5;241;43m*\u001B[39;49m\u001B[43m(\u001B[49m\u001B[43margs\u001B[49m\u001B[43m \u001B[49m\u001B[38;5;241;43m+\u001B[39;49m\u001B[43m \u001B[49m\u001B[43m[\u001B[49m\u001B[38;5;28;43;01mTrue\u001B[39;49;00m\u001B[43m]\u001B[49m\u001B[43m)\u001B[49m\u001B[43m)\u001B[49m\u001B[43m,\u001B[49m\n\u001B[1;32m    488\u001B[0m \u001B[43m    \u001B[49m\u001B[43mOutput\u001B[49m\u001B[38;5;241;43m.\u001B[39;49m\u001B[43mDICT\u001B[49m\u001B[43m:\u001B[49m\u001B[43m \u001B[49m\u001B[38;5;28;43;01mlambda\u001B[39;49;00m\u001B[43m:\u001B[49m\u001B[43m \u001B[49m\u001B[43m{\u001B[49m\u001B[38;5;124;43m'\u001B[39;49m\u001B[38;5;124;43mtext\u001B[39;49m\u001B[38;5;124;43m'\u001B[39;49m\u001B[43m:\u001B[49m\u001B[43m \u001B[49m\u001B[43mrun_and_get_output\u001B[49m\u001B[43m(\u001B[49m\u001B[38;5;241;43m*\u001B[39;49m\u001B[43margs\u001B[49m\u001B[43m)\u001B[49m\u001B[43m}\u001B[49m\u001B[43m,\u001B[49m\n\u001B[1;32m    489\u001B[0m \u001B[43m    \u001B[49m\u001B[43mOutput\u001B[49m\u001B[38;5;241;43m.\u001B[39;49m\u001B[43mSTRING\u001B[49m\u001B[43m:\u001B[49m\u001B[43m \u001B[49m\u001B[38;5;28;43;01mlambda\u001B[39;49;00m\u001B[43m:\u001B[49m\u001B[43m \u001B[49m\u001B[43mrun_and_get_output\u001B[49m\u001B[43m(\u001B[49m\u001B[38;5;241;43m*\u001B[39;49m\u001B[43margs\u001B[49m\u001B[43m)\u001B[49m\u001B[43m,\u001B[49m\n\u001B[1;32m    490\u001B[0m \u001B[43m\u001B[49m\u001B[43m}\u001B[49m\u001B[43m[\u001B[49m\u001B[43moutput_type\u001B[49m\u001B[43m]\u001B[49m\u001B[43m(\u001B[49m\u001B[43m)\u001B[49m\n",
      "File \u001B[0;32m~/PycharmProjects/aqua/.venv/lib/python3.10/site-packages/pytesseract/pytesseract.py:489\u001B[0m, in \u001B[0;36mimage_to_string.<locals>.<lambda>\u001B[0;34m()\u001B[0m\n\u001B[1;32m    481\u001B[0m \u001B[38;5;250m\u001B[39m\u001B[38;5;124;03m\"\"\"\u001B[39;00m\n\u001B[1;32m    482\u001B[0m \u001B[38;5;124;03mReturns the result of a Tesseract OCR run on the provided image to string\u001B[39;00m\n\u001B[1;32m    483\u001B[0m \u001B[38;5;124;03m\"\"\"\u001B[39;00m\n\u001B[1;32m    484\u001B[0m args \u001B[38;5;241m=\u001B[39m [image, \u001B[38;5;124m'\u001B[39m\u001B[38;5;124mtxt\u001B[39m\u001B[38;5;124m'\u001B[39m, lang, config, nice, timeout]\n\u001B[1;32m    486\u001B[0m \u001B[38;5;28;01mreturn\u001B[39;00m {\n\u001B[1;32m    487\u001B[0m     Output\u001B[38;5;241m.\u001B[39mBYTES: \u001B[38;5;28;01mlambda\u001B[39;00m: run_and_get_output(\u001B[38;5;241m*\u001B[39m(args \u001B[38;5;241m+\u001B[39m [\u001B[38;5;28;01mTrue\u001B[39;00m])),\n\u001B[1;32m    488\u001B[0m     Output\u001B[38;5;241m.\u001B[39mDICT: \u001B[38;5;28;01mlambda\u001B[39;00m: {\u001B[38;5;124m'\u001B[39m\u001B[38;5;124mtext\u001B[39m\u001B[38;5;124m'\u001B[39m: run_and_get_output(\u001B[38;5;241m*\u001B[39margs)},\n\u001B[0;32m--> 489\u001B[0m     Output\u001B[38;5;241m.\u001B[39mSTRING: \u001B[38;5;28;01mlambda\u001B[39;00m: \u001B[43mrun_and_get_output\u001B[49m\u001B[43m(\u001B[49m\u001B[38;5;241;43m*\u001B[39;49m\u001B[43margs\u001B[49m\u001B[43m)\u001B[49m,\n\u001B[1;32m    490\u001B[0m }[output_type]()\n",
      "File \u001B[0;32m~/PycharmProjects/aqua/.venv/lib/python3.10/site-packages/pytesseract/pytesseract.py:352\u001B[0m, in \u001B[0;36mrun_and_get_output\u001B[0;34m(image, extension, lang, config, nice, timeout, return_bytes)\u001B[0m\n\u001B[1;32m    341\u001B[0m \u001B[38;5;28;01mwith\u001B[39;00m save(image) \u001B[38;5;28;01mas\u001B[39;00m (temp_name, input_filename):\n\u001B[1;32m    342\u001B[0m     kwargs \u001B[38;5;241m=\u001B[39m {\n\u001B[1;32m    343\u001B[0m         \u001B[38;5;124m'\u001B[39m\u001B[38;5;124minput_filename\u001B[39m\u001B[38;5;124m'\u001B[39m: input_filename,\n\u001B[1;32m    344\u001B[0m         \u001B[38;5;124m'\u001B[39m\u001B[38;5;124moutput_filename_base\u001B[39m\u001B[38;5;124m'\u001B[39m: temp_name,\n\u001B[0;32m   (...)\u001B[0m\n\u001B[1;32m    349\u001B[0m         \u001B[38;5;124m'\u001B[39m\u001B[38;5;124mtimeout\u001B[39m\u001B[38;5;124m'\u001B[39m: timeout,\n\u001B[1;32m    350\u001B[0m     }\n\u001B[0;32m--> 352\u001B[0m     \u001B[43mrun_tesseract\u001B[49m\u001B[43m(\u001B[49m\u001B[38;5;241;43m*\u001B[39;49m\u001B[38;5;241;43m*\u001B[39;49m\u001B[43mkwargs\u001B[49m\u001B[43m)\u001B[49m\n\u001B[1;32m    353\u001B[0m     \u001B[38;5;28;01mreturn\u001B[39;00m _read_output(\n\u001B[1;32m    354\u001B[0m         \u001B[38;5;124mf\u001B[39m\u001B[38;5;124m\"\u001B[39m\u001B[38;5;132;01m{\u001B[39;00mkwargs[\u001B[38;5;124m'\u001B[39m\u001B[38;5;124moutput_filename_base\u001B[39m\u001B[38;5;124m'\u001B[39m]\u001B[38;5;132;01m}\u001B[39;00m\u001B[38;5;132;01m{\u001B[39;00mextsep\u001B[38;5;132;01m}\u001B[39;00m\u001B[38;5;132;01m{\u001B[39;00mextension\u001B[38;5;132;01m}\u001B[39;00m\u001B[38;5;124m\"\u001B[39m,\n\u001B[1;32m    355\u001B[0m         return_bytes,\n\u001B[1;32m    356\u001B[0m     )\n",
      "File \u001B[0;32m~/PycharmProjects/aqua/.venv/lib/python3.10/site-packages/pytesseract/pytesseract.py:284\u001B[0m, in \u001B[0;36mrun_tesseract\u001B[0;34m(input_filename, output_filename_base, extension, lang, config, nice, timeout)\u001B[0m\n\u001B[1;32m    282\u001B[0m \u001B[38;5;28;01mwith\u001B[39;00m timeout_manager(proc, timeout) \u001B[38;5;28;01mas\u001B[39;00m error_string:\n\u001B[1;32m    283\u001B[0m     \u001B[38;5;28;01mif\u001B[39;00m proc\u001B[38;5;241m.\u001B[39mreturncode:\n\u001B[0;32m--> 284\u001B[0m         \u001B[38;5;28;01mraise\u001B[39;00m TesseractError(proc\u001B[38;5;241m.\u001B[39mreturncode, get_errors(error_string))\n",
      "\u001B[0;31mTesseractError\u001B[0m: (1, 'Error opening data file /opt/homebrew/share/tessdata/kor.traineddata Please make sure the TESSDATA_PREFIX environment variable is set to your \"tessdata\" directory. Failed loading language \\'kor\\' Tesseract couldn\\'t load any languages! Could not initialize tesseract.')"
     ]
    }
   ],
   "source": [
    "\n",
    "# 3. OCR 수행\n",
    "extracted_text = perform_ocr(cropped_image_path)\n",
    "print(\"추출된 텍스트:\", extracted_text)\n"
   ],
   "metadata": {
    "collapsed": true,
    "ExecuteTime": {
     "end_time": "2024-11-27T04:37:06.535430Z",
     "start_time": "2024-11-27T04:37:05.145095Z"
    }
   },
   "id": "initial_id",
   "execution_count": 9
  },
  {
   "cell_type": "code",
   "outputs": [],
   "source": [],
   "metadata": {
    "collapsed": false
   },
   "id": "a3184f2f70e97660"
  }
 ],
 "metadata": {
  "kernelspec": {
   "display_name": "Python 3",
   "language": "python",
   "name": "python3"
  },
  "language_info": {
   "codemirror_mode": {
    "name": "ipython",
    "version": 2
   },
   "file_extension": ".py",
   "mimetype": "text/x-python",
   "name": "python",
   "nbconvert_exporter": "python",
   "pygments_lexer": "ipython2",
   "version": "2.7.6"
  }
 },
 "nbformat": 4,
 "nbformat_minor": 5
}
