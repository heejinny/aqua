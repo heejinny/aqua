{
 "cells": [
  {
   "cell_type": "code",
   "execution_count": null,
   "id": "initial_id",
   "metadata": {
    "collapsed": true
   },
   "outputs": [],
   "source": [
    "import fitz  # PyMuPDF\n",
    "from PIL import Image\n",
    "import pytesseract\n",
    "\n",
    "# Tesseract OCR 경로 설정 (필요 시)\n",
    "# pytesseract.pytesseract.tesseract_cmd = r'C:\\Program Files\\Tesseract-OCR\\tesseract.exe'\n",
    "\n",
    "def pdf_to_images(pdf_path, output_folder):\n",
    "    \"\"\"\n",
    "    PDF 파일을 이미지로 변환 및 저장\n",
    "    \"\"\"\n",
    "    doc = fitz.open(pdf_path)\n",
    "    image_paths = []\n",
    "\n",
    "    for page_num in range(len(doc)):\n",
    "        # 각 페이지를 이미지로 변환\n",
    "        pix = doc[page_num].get_pixmap()\n",
    "        image_path = f\"{output_folder}/page_{page_num + 1}.png\"\n",
    "        pix.save(image_path)\n",
    "        image_paths.append(image_path)\n",
    "\n",
    "    return image_paths\n",
    "\n",
    "def crop_image(image_path, coordinates, cropped_path):\n",
    "    \"\"\"\n",
    "    이미지에서 특정 영역을 잘라내기\n",
    "    coordinates: (x1, y1, x2, y2)\n",
    "    \"\"\"\n",
    "    with Image.open(image_path) as img:\n",
    "        cropped_img = img.crop(coordinates)\n",
    "        cropped_img.save(cropped_path)\n",
    "        return cropped_path\n",
    "\n",
    "def perform_ocr(image_path):\n",
    "    \"\"\"\n",
    "    OCR 수행\n",
    "    \"\"\"\n",
    "    with Image.open(image_path) as img:\n",
    "        text = pytesseract.image_to_string(img, lang=\"eng\")  # 한국어는 \"kor\"로 변경\n",
    "    return text\n",
    "\n",
    "# PDF 슬라이싱 및 OCR 수행\n",
    "pdf_path = \"example.pdf\"\n",
    "output_folder = \"./output\"\n",
    "\n",
    "# 1. PDF를 이미지로 변환\n",
    "images = pdf_to_images(pdf_path, output_folder)\n",
    "\n",
    "# 2. 특정 영역 잘라내기 (슬라이싱)\n",
    "# 좌표는 PDF의 특정 영역에 따라 지정 (예: x1, y1, x2, y2)\n",
    "coordinates = (50, 50, 400, 400)  # 예시 좌표\n",
    "cropped_image_path = crop_image(images[0], coordinates, \"./output/cropped_page_1.png\")\n",
    "\n",
    "# 3. OCR 수행\n",
    "extracted_text = perform_ocr(cropped_image_path)\n",
    "print(\"추출된 텍스트:\", extracted_text)\n"
   ]
  }
 ],
 "metadata": {
  "kernelspec": {
   "display_name": "Python 3",
   "language": "python",
   "name": "python3"
  },
  "language_info": {
   "codemirror_mode": {
    "name": "ipython",
    "version": 2
   },
   "file_extension": ".py",
   "mimetype": "text/x-python",
   "name": "python",
   "nbconvert_exporter": "python",
   "pygments_lexer": "ipython2",
   "version": "2.7.6"
  }
 },
 "nbformat": 4,
 "nbformat_minor": 5
}
